{
  "nbformat": 4,
  "nbformat_minor": 0,
  "metadata": {
    "colab": {
      "name": "Solutions_KNN.ipynb",
      "provenance": [],
      "include_colab_link": true
    },
    "kernelspec": {
      "name": "python3",
      "display_name": "Python 3"
    }
  },
  "cells": [
    {
      "cell_type": "markdown",
      "metadata": {
        "id": "view-in-github",
        "colab_type": "text"
      },
      "source": [
        "<a href=\"https://colab.research.google.com/github/raianeti/Projeto-PIBIC-JR-2020/blob/main/Solutions_KNN.ipynb\" target=\"_parent\"><img src=\"https://colab.research.google.com/assets/colab-badge.svg\" alt=\"Open In Colab\"/></a>"
      ]
    },
    {
      "cell_type": "markdown",
      "metadata": {
        "id": "i1CRqYG7timE"
      },
      "source": [
        "Projeto PIBIC JR\n",
        "\n",
        "\n",
        "1.   Aplicando uma abordagem de Machine Learning baseada no melhor KNN para detecção de ataques Botnet em IoT\n",
        "\n",
        "Neste trabalho propõe-se desenvolver um mecanismo para a detecção de ataques botnet em redes IoT, que aplique uma abordagem de Machine Learning baseada em KNN, de forma a selecionar o melhor valor do parâmetro *k* para o problema. Com a finalidade de prover maior nível de segurança para os dispositivos IoT e suas aplicações, bem como possibilitar avanços das pesquisas de sistemas de detecção de intrusões (*Intrusion detection System* - IDS)"
      ]
    },
    {
      "cell_type": "code",
      "metadata": {
        "id": "Ajk5VmXMqWom",
        "colab": {
          "base_uri": "https://localhost:8080/"
        },
        "outputId": "03e8105e-d978-4fb6-e8c4-395735644fd9"
      },
      "source": [
        "#montando o drive\n",
        "\n",
        "from google.colab import drive\n",
        "\n",
        "drive.mount('/content/drive')"
      ],
      "execution_count": 35,
      "outputs": [
        {
          "output_type": "stream",
          "name": "stdout",
          "text": [
            "Drive already mounted at /content/drive; to attempt to forcibly remount, call drive.mount(\"/content/drive\", force_remount=True).\n"
          ]
        }
      ]
    },
    {
      "cell_type": "code",
      "metadata": {
        "id": "V_EA42vmdx3C"
      },
      "source": [
        "#Importando bibliotecas\n",
        "import pandas as pd\n",
        "import numpy as np\n",
        "from sklearn_pandas import DataFrameMapper\n",
        "from sklearn.metrics import accuracy_score\n",
        "from sklearn.datasets.samples_generator import make_blobs \n",
        "from sklearn.model_selection import cross_val_score\n",
        "from sklearn.metrics import roc_auc_score\n",
        "from sklearn.preprocessing import label_binarize\n",
        "from sklearn.datasets import make_classification\n",
        "from sklearn.datasets import make_moons, make_circles, make_classification\n",
        "from sklearn.model_selection import StratifiedKFold\n",
        "from sklearn.model_selection import KFold\n",
        "import matplotlib.pyplot as plt\n",
        "from sklearn.metrics import confusion_matrix\n",
        "from sklearn.feature_selection import chi2\n",
        "from sklearn.feature_selection import SelectKBest, chi2\n",
        "from sklearn.metrics import precision_score\n",
        "from sklearn.pipeline import make_pipeline\n",
        "from sklearn import preprocessing\n",
        "from sklearn.metrics import recall_score\n",
        "from sklearn.metrics import f1_score\n",
        "import warnings\n",
        "import time\n",
        "warnings.filterwarnings(action='ignore')\n",
        "\n",
        "import tensorflow as tf\n",
        "from tensorflow import keras\n",
        "from tensorflow.keras import layers"
      ],
      "execution_count": 36,
      "outputs": []
    },
    {
      "cell_type": "code",
      "metadata": {
        "colab": {
          "base_uri": "https://localhost:8080/"
        },
        "id": "VXMat4VFdz0P",
        "outputId": "e85dc5dd-ef25-49c3-b220-50e4c674c57b"
      },
      "source": [
        "# importando os datasets\n",
        "normalData=pd.read_csv('/content/drive/My Drive/PibicFinal/mirai/benign_traffic.csv')\n",
        "attackData=pd.read_csv('/content/drive/My Drive/PibicFinal/mirai/ack.csv')\n",
        "print(normalData.keys()) #vizualizando o nome das colunas"
      ],
      "execution_count": 37,
      "outputs": [
        {
          "output_type": "stream",
          "name": "stdout",
          "text": [
            "Index(['MI_dir_L5_weight', 'MI_dir_L5_mean', 'MI_dir_L5_variance',\n",
            "       'MI_dir_L3_weight', 'MI_dir_L3_mean', 'MI_dir_L3_variance',\n",
            "       'MI_dir_L1_weight', 'MI_dir_L1_mean', 'MI_dir_L1_variance',\n",
            "       'MI_dir_L0.1_weight',\n",
            "       ...\n",
            "       'HpHp_L0.1_radius', 'HpHp_L0.1_covariance', 'HpHp_L0.1_pcc',\n",
            "       'HpHp_L0.01_weight', 'HpHp_L0.01_mean', 'HpHp_L0.01_std',\n",
            "       'HpHp_L0.01_magnitude', 'HpHp_L0.01_radius', 'HpHp_L0.01_covariance',\n",
            "       'HpHp_L0.01_pcc'],\n",
            "      dtype='object', length=115)\n"
          ]
        }
      ]
    },
    {
      "cell_type": "code",
      "metadata": {
        "colab": {
          "base_uri": "https://localhost:8080/"
        },
        "id": "-Sdt4GWqq3F3",
        "outputId": "995adf47-028f-4c77-8633-6ef22f97b5c8"
      },
      "source": [
        "#print(attackData.head(6))\n",
        "print(attackData.shape) #shape dos dados\n",
        "print(normalData.shape)"
      ],
      "execution_count": 38,
      "outputs": [
        {
          "output_type": "stream",
          "name": "stdout",
          "text": [
            "(113285, 115)\n",
            "(13113, 115)\n"
          ]
        }
      ]
    },
    {
      "cell_type": "code",
      "metadata": {
        "id": "fkBjE0b5q6I3"
      },
      "source": [
        "#classificação binária dos dados para verificar número de pacotes\n",
        "attackData['Class']= 1\n",
        "normalData['Class']= 0\n",
        "#print(dados, dados[\"Classe\"])\n"
      ],
      "execution_count": 39,
      "outputs": []
    },
    {
      "cell_type": "code",
      "metadata": {
        "colab": {
          "base_uri": "https://localhost:8080/"
        },
        "id": "lrJhJlZhMjTv",
        "outputId": "9a3f7642-2c7f-45f7-80d9-836f13a710a5"
      },
      "source": [
        "#combinando os dados nomral com attaques\n",
        "dados=pd.concat([normalData,attackData],axis=0)\n",
        "dados.shape\n"
      ],
      "execution_count": 40,
      "outputs": [
        {
          "output_type": "execute_result",
          "data": {
            "text/plain": [
              "(126398, 116)"
            ]
          },
          "metadata": {},
          "execution_count": 40
        }
      ]
    },
    {
      "cell_type": "code",
      "metadata": {
        "colab": {
          "base_uri": "https://localhost:8080/",
          "height": 248
        },
        "id": "ZCDGDDaAq_AL",
        "outputId": "aae09342-cd4a-4126-dae2-ab5d4c9a916f"
      },
      "source": [
        "\n",
        "#plotando gráfico com quantidade de pacotes para cada dataset\n",
        "%matplotlib inline  \n",
        "import matplotlib.pyplot as plt\n",
        "dados['Class'].value_counts().plot(kind='pie', autopct='%.2f%%');\n",
        "#plt.title(\"Quantidade de pacotes por dataset\")\n",
        "\n",
        "#plt.savefig('imagens/quantidade_pacotes_classeACK.eps', format='eps')\n",
        "\n",
        "Output=dados['Class']\n",
        "#Output=np.array(Output).flatten() \n",
        "#print(Output)\n",
        "\n",
        "#print(dados, dados[\"Classe\"])\n",
        "#excluindo classes desnecessárias do dataset. De 115features, agora apenas 23\n",
        "dados=dados.drop([\"MI_dir_L5_weight\", \"MI_dir_L3_weight\", \"MI_dir_L0.1_weight\", \"MI_dir_L0.01_weight\",\n",
        "                 \"MI_dir_L5_mean\", \"MI_dir_L3_mean\", \"MI_dir_L0.1_mean\", \"MI_dir_L0.01_mean\", \"MI_dir_L5_variance\",\n",
        "                 \"MI_dir_L3_variance\", \"MI_dir_L0.1_variance\", \"MI_dir_L0.01_variance\", \"H_L5_weight\",\"H_L3_weight\",\n",
        "                  \"H_L0.1_weight\", \"H_L0.01_weight\",\"H_L5_mean\",\"H_L3_mean\", \"H_L0.1_mean\", \"H_L0.01_mean\", \n",
        "                 \"H_L5_variance\", \"H_L3_variance\", \"H_L0.1_variance\", \"H_L0.01_variance\", \"HH_L5_weight\", \"HH_L3_weight\",\n",
        "                  \"HH_L0.1_weight\", \"HH_L0.01_weight\",\"HH_L5_mean\",\"HH_L3_mean\",\n",
        "                 \"HH_L0.1_mean\", \"HH_L0.01_mean\", \"HH_L5_std\", \"HH_L3_std\", \"HH_L0.1_std\", \"HH_L0.01_std\",\n",
        "                 \"HH_L5_magnitude\", \"HH_L3_magnitude\", \"HH_L0.1_magnitude\", \"HH_L0.01_magnitude\", \"HH_L5_radius\", \n",
        "                  \"HH_L3_radius\", \"HH_L0.1_radius\", \"HH_L0.01_radius\", \"HH_L5_covariance\",\"HH_L3_covariance\", \n",
        "                  \"HH_L0.1_covariance\", \"HH_L0.01_covariance\",\"HH_L5_pcc\", \"HH_L3_pcc\", \"HH_L5_pcc\",\"HH_L0.1_pcc\",\n",
        "                 \"HH_L0.01_pcc\", \"HH_jit_L5_weight\", \"HH_jit_L3_weight\", \"HH_jit_L0.1_weight\", \"HH_jit_L0.01_weight\",\n",
        "                 \"HH_jit_L5_mean\", \"HH_jit_L3_mean\", \"HH_jit_L0.1_mean\", \"HH_jit_L0.01_mean\", \"HH_jit_L5_variance\",\n",
        "                 \"HH_jit_L3_variance\", \"HH_jit_L0.1_variance\", \"HH_jit_L0.01_variance\", \"HpHp_L5_weight\",\"HpHp_L3_weight\",\n",
        "                 \"HpHp_L0.1_weight\", \"HpHp_L0.01_weight\", \"HpHp_L5_mean\", \"HpHp_L3_mean\", \"HpHp_L0.1_mean\",\n",
        "                 \"HpHp_L0.01_mean\", \"HpHp_L5_std\", \"HpHp_L3_std\", \"HpHp_L0.1_std\", \"HpHp_L0.01_std\", \"HpHp_L5_magnitude\",\n",
        "                 \"HpHp_L3_magnitude\", \"HpHp_L0.1_magnitude\", \"HpHp_L0.01_magnitude\", \"HpHp_L5_radius\", \"HpHp_L3_radius\",\n",
        "                 \"HpHp_L0.1_radius\", \"HpHp_L0.01_radius\", \"HpHp_L5_covariance\", \"HpHp_L3_covariance\", \"HpHp_L5_covariance\",\n",
        "                  \"HpHp_L0.1_covariance\",\"HpHp_L0.01_covariance\", \"HpHp_L5_pcc\", \"HpHp_L3_pcc\", \"HpHp_L0.1_pcc\", \n",
        "                  \"HpHp_L0.01_pcc\"],axis=1)"
      ],
      "execution_count": 41,
      "outputs": [
        {
          "output_type": "display_data",
          "data": {
            "image/png": "[encoded data removed]",
            "text/plain": [
              "<Figure size 432x288 with 1 Axes>"
            ]
          },
          "metadata": {}
        }
      ]
    },
    {
      "cell_type": "code",
      "metadata": {
        "colab": {
          "base_uri": "https://localhost:8080/"
        },
        "id": "vg2hXJ4TrGdX",
        "outputId": "bddc02fd-2257-43f3-90d6-aeb7afb923de"
      },
      "source": [
        "#renomeando as features\n",
        "dados = (dados.rename(columns={\"H_L1_weight\":\"IP_Ori_weight\",\n",
        "                               \"H_L1_mean\":\"IP_Ori_mean\",                                \n",
        "                               \"H_L1_variance\":\"IP_Ori_variance\",\n",
        "                               \"HH_L1_weight\":\"Traf_Ori_Des_weight\",\n",
        "                               \"HH_L1_mean\":\"Traf_Ori_Des_mean\",\n",
        "                               \"HH_L1_std\":\"Traf_Ori_Des_std\",\n",
        "                               \"HH_L1_magnitude\":\"Traf_Ori_Des_magnitude\",\n",
        "                               \"HH_L1_radius\":\"Traf_Ori_Des_radius\",\n",
        "                               \"HH_L1_covariance\":\"Traf_Ori_Des_covariance\",\n",
        "                               \"HH_L1_pcc\":\"Traf_Ori_Des_pcc\",\n",
        "                               \"HH_jit_L1_weight\":\"Insta_Ori_Des_weight\",\n",
        "                               \"HH_jit_L1_mean\":\"Insta_Ori_Des_mean\",\n",
        "                               \"HH_jit_L1_variance\":\"Insta_Ori_Des_variance\",\n",
        "                               \"HpHp_L1_weight\":\"Insta_Ori_Des_weight\",\n",
        "                               \"HpHp_L1_mean\":\"Insta_Ori_Des_mean\",\n",
        "                               \"HpHp_L1_std\":\"Insta_Ori_Des_std\",\n",
        "                               \"HpHp_L1_magnitude\":\"Insta_Ori_Des_magnitude\",\n",
        "                               \"HpHp_L1_radius\":\"Insta_Ori_Des_radius\",\n",
        "                               \"HpHp_L1_covariance\":\"Insta_Ori_Des_covariance\",\n",
        "                               \"HpHp_L1_pcc\":\"Insta_Ori_Des_pcc\"}))\n",
        "print(dados.index)\n",
        "\n"
      ],
      "execution_count": 28,
      "outputs": [
        {
          "output_type": "stream",
          "name": "stdout",
          "text": [
            "Int64Index([     0,      1,      2,      3,      4,      5,      6,      7,\n",
            "                 8,      9,\n",
            "            ...\n",
            "            113275, 113276, 113277, 113278, 113279, 113280, 113281, 113282,\n",
            "            113283, 113284],\n",
            "           dtype='int64', length=126398)\n"
          ]
        }
      ]
    },
    {
      "cell_type": "code",
      "metadata": {
        "colab": {
          "base_uri": "https://localhost:8080/",
          "height": 788
        },
        "id": "yiJTIGBszg54",
        "outputId": "a918ac20-56a9-4091-8cd6-3de5be4fea1c"
      },
      "source": [
        "#Exibir as colunas e os tipos de dados de cada coluna - dataset original\n",
        "tipos_de_dados = pd.DataFrame(dados.dtypes, columns=['Tipo de Dados'])\n",
        "tipos_de_dados.columns.name='Característica'\n",
        "tipos_de_dados"
      ],
      "execution_count": 42,
      "outputs": [
        {
          "output_type": "execute_result",
          "data": {
            "text/html": [
              "<div>\n",
              "<style scoped>\n",
              "    .dataframe tbody tr th:only-of-type {\n",
              "        vertical-align: middle;\n",
              "    }\n",
              "\n",
              "    .dataframe tbody tr th {\n",
              "        vertical-align: top;\n",
              "    }\n",
              "\n",
              "    .dataframe thead th {\n",
              "        text-align: right;\n",
              "    }\n",
              "</style>\n",
              "<table border=\"1\" class=\"dataframe\">\n",
              "  <thead>\n",
              "    <tr style=\"text-align: right;\">\n",
              "      <th>Característica</th>\n",
              "      <th>Tipo de Dados</th>\n",
              "    </tr>\n",
              "  </thead>\n",
              "  <tbody>\n",
              "    <tr>\n",
              "      <th>MI_dir_L1_weight</th>\n",
              "      <td>float64</td>\n",
              "    </tr>\n",
              "    <tr>\n",
              "      <th>MI_dir_L1_mean</th>\n",
              "      <td>float64</td>\n",
              "    </tr>\n",
              "    <tr>\n",
              "      <th>MI_dir_L1_variance</th>\n",
              "      <td>float64</td>\n",
              "    </tr>\n",
              "    <tr>\n",
              "      <th>H_L1_weight</th>\n",
              "      <td>float64</td>\n",
              "    </tr>\n",
              "    <tr>\n",
              "      <th>H_L1_mean</th>\n",
              "      <td>float64</td>\n",
              "    </tr>\n",
              "    <tr>\n",
              "      <th>H_L1_variance</th>\n",
              "      <td>float64</td>\n",
              "    </tr>\n",
              "    <tr>\n",
              "      <th>HH_L1_weight</th>\n",
              "      <td>float64</td>\n",
              "    </tr>\n",
              "    <tr>\n",
              "      <th>HH_L1_mean</th>\n",
              "      <td>float64</td>\n",
              "    </tr>\n",
              "    <tr>\n",
              "      <th>HH_L1_std</th>\n",
              "      <td>float64</td>\n",
              "    </tr>\n",
              "    <tr>\n",
              "      <th>HH_L1_magnitude</th>\n",
              "      <td>float64</td>\n",
              "    </tr>\n",
              "    <tr>\n",
              "      <th>HH_L1_radius</th>\n",
              "      <td>float64</td>\n",
              "    </tr>\n",
              "    <tr>\n",
              "      <th>HH_L1_covariance</th>\n",
              "      <td>float64</td>\n",
              "    </tr>\n",
              "    <tr>\n",
              "      <th>HH_L1_pcc</th>\n",
              "      <td>float64</td>\n",
              "    </tr>\n",
              "    <tr>\n",
              "      <th>HH_jit_L1_weight</th>\n",
              "      <td>float64</td>\n",
              "    </tr>\n",
              "    <tr>\n",
              "      <th>HH_jit_L1_mean</th>\n",
              "      <td>float64</td>\n",
              "    </tr>\n",
              "    <tr>\n",
              "      <th>HH_jit_L1_variance</th>\n",
              "      <td>float64</td>\n",
              "    </tr>\n",
              "    <tr>\n",
              "      <th>HpHp_L1_weight</th>\n",
              "      <td>float64</td>\n",
              "    </tr>\n",
              "    <tr>\n",
              "      <th>HpHp_L1_mean</th>\n",
              "      <td>float64</td>\n",
              "    </tr>\n",
              "    <tr>\n",
              "      <th>HpHp_L1_std</th>\n",
              "      <td>float64</td>\n",
              "    </tr>\n",
              "    <tr>\n",
              "      <th>HpHp_L1_magnitude</th>\n",
              "      <td>float64</td>\n",
              "    </tr>\n",
              "    <tr>\n",
              "      <th>HpHp_L1_radius</th>\n",
              "      <td>float64</td>\n",
              "    </tr>\n",
              "    <tr>\n",
              "      <th>HpHp_L1_covariance</th>\n",
              "      <td>float64</td>\n",
              "    </tr>\n",
              "    <tr>\n",
              "      <th>HpHp_L1_pcc</th>\n",
              "      <td>float64</td>\n",
              "    </tr>\n",
              "    <tr>\n",
              "      <th>Class</th>\n",
              "      <td>int64</td>\n",
              "    </tr>\n",
              "  </tbody>\n",
              "</table>\n",
              "</div>"
            ],
            "text/plain": [
              "Característica     Tipo de Dados\n",
              "MI_dir_L1_weight         float64\n",
              "MI_dir_L1_mean           float64\n",
              "MI_dir_L1_variance       float64\n",
              "H_L1_weight              float64\n",
              "H_L1_mean                float64\n",
              "H_L1_variance            float64\n",
              "HH_L1_weight             float64\n",
              "HH_L1_mean               float64\n",
              "HH_L1_std                float64\n",
              "HH_L1_magnitude          float64\n",
              "HH_L1_radius             float64\n",
              "HH_L1_covariance         float64\n",
              "HH_L1_pcc                float64\n",
              "HH_jit_L1_weight         float64\n",
              "HH_jit_L1_mean           float64\n",
              "HH_jit_L1_variance       float64\n",
              "HpHp_L1_weight           float64\n",
              "HpHp_L1_mean             float64\n",
              "HpHp_L1_std              float64\n",
              "HpHp_L1_magnitude        float64\n",
              "HpHp_L1_radius           float64\n",
              "HpHp_L1_covariance       float64\n",
              "HpHp_L1_pcc              float64\n",
              "Class                      int64"
            ]
          },
          "metadata": {},
          "execution_count": 42
        }
      ]
    },
    {
      "cell_type": "code",
      "metadata": {
        "colab": {
          "base_uri": "https://localhost:8080/",
          "height": 223
        },
        "id": "chq5X8s-zlNe",
        "outputId": "6daec768-8db9-4f81-8d93-ea3681b01679"
      },
      "source": [
        "#Reorganizando as instancias de forma aleatória\n",
        "sampler=np.random.permutation(len(dados))\n",
        "dados=dados.take(sampler)\n",
        "dados.head()"
      ],
      "execution_count": 43,
      "outputs": [
        {
          "output_type": "execute_result",
          "data": {
            "text/html": [
              "<div>\n",
              "<style scoped>\n",
              "    .dataframe tbody tr th:only-of-type {\n",
              "        vertical-align: middle;\n",
              "    }\n",
              "\n",
              "    .dataframe tbody tr th {\n",
              "        vertical-align: top;\n",
              "    }\n",
              "\n",
              "    .dataframe thead th {\n",
              "        text-align: right;\n",
              "    }\n",
              "</style>\n",
              "<table border=\"1\" class=\"dataframe\">\n",
              "  <thead>\n",
              "    <tr style=\"text-align: right;\">\n",
              "      <th></th>\n",
              "      <th>MI_dir_L1_weight</th>\n",
              "      <th>MI_dir_L1_mean</th>\n",
              "      <th>MI_dir_L1_variance</th>\n",
              "      <th>H_L1_weight</th>\n",
              "      <th>H_L1_mean</th>\n",
              "      <th>H_L1_variance</th>\n",
              "      <th>HH_L1_weight</th>\n",
              "      <th>HH_L1_mean</th>\n",
              "      <th>HH_L1_std</th>\n",
              "      <th>HH_L1_magnitude</th>\n",
              "      <th>HH_L1_radius</th>\n",
              "      <th>HH_L1_covariance</th>\n",
              "      <th>HH_L1_pcc</th>\n",
              "      <th>HH_jit_L1_weight</th>\n",
              "      <th>HH_jit_L1_mean</th>\n",
              "      <th>HH_jit_L1_variance</th>\n",
              "      <th>HpHp_L1_weight</th>\n",
              "      <th>HpHp_L1_mean</th>\n",
              "      <th>HpHp_L1_std</th>\n",
              "      <th>HpHp_L1_magnitude</th>\n",
              "      <th>HpHp_L1_radius</th>\n",
              "      <th>HpHp_L1_covariance</th>\n",
              "      <th>HpHp_L1_pcc</th>\n",
              "      <th>Class</th>\n",
              "    </tr>\n",
              "  </thead>\n",
              "  <tbody>\n",
              "    <tr>\n",
              "      <th>86220</th>\n",
              "      <td>657.298514</td>\n",
              "      <td>477.540963</td>\n",
              "      <td>36935.239992</td>\n",
              "      <td>657.298514</td>\n",
              "      <td>477.540963</td>\n",
              "      <td>36935.239992</td>\n",
              "      <td>542.389376</td>\n",
              "      <td>565.999979</td>\n",
              "      <td>0.103743</td>\n",
              "      <td>565.999979</td>\n",
              "      <td>0.010763</td>\n",
              "      <td>0.000000</td>\n",
              "      <td>0.000000</td>\n",
              "      <td>542.389376</td>\n",
              "      <td>0.002674</td>\n",
              "      <td>0.000033</td>\n",
              "      <td>1.000000</td>\n",
              "      <td>566.000000</td>\n",
              "      <td>0.000000</td>\n",
              "      <td>566.00000</td>\n",
              "      <td>0.00000</td>\n",
              "      <td>0.000000</td>\n",
              "      <td>0.000000</td>\n",
              "      <td>1</td>\n",
              "    </tr>\n",
              "    <tr>\n",
              "      <th>10949</th>\n",
              "      <td>1.520434</td>\n",
              "      <td>152.388259</td>\n",
              "      <td>19662.982010</td>\n",
              "      <td>1.520434</td>\n",
              "      <td>152.388259</td>\n",
              "      <td>19662.982010</td>\n",
              "      <td>1.520434</td>\n",
              "      <td>152.388259</td>\n",
              "      <td>140.224755</td>\n",
              "      <td>1008.697690</td>\n",
              "      <td>39161.625580</td>\n",
              "      <td>-760.306313</td>\n",
              "      <td>-0.029463</td>\n",
              "      <td>1.520434</td>\n",
              "      <td>4.606340</td>\n",
              "      <td>169.786024</td>\n",
              "      <td>1.520434</td>\n",
              "      <td>152.388259</td>\n",
              "      <td>140.224755</td>\n",
              "      <td>1008.69769</td>\n",
              "      <td>39161.62558</td>\n",
              "      <td>-760.306313</td>\n",
              "      <td>-0.029463</td>\n",
              "      <td>0</td>\n",
              "    </tr>\n",
              "    <tr>\n",
              "      <th>55830</th>\n",
              "      <td>578.741457</td>\n",
              "      <td>434.844221</td>\n",
              "      <td>49132.174768</td>\n",
              "      <td>578.741457</td>\n",
              "      <td>434.844221</td>\n",
              "      <td>49132.174768</td>\n",
              "      <td>428.662460</td>\n",
              "      <td>565.996367</td>\n",
              "      <td>1.355742</td>\n",
              "      <td>565.996367</td>\n",
              "      <td>1.838035</td>\n",
              "      <td>0.000000</td>\n",
              "      <td>0.000000</td>\n",
              "      <td>428.662460</td>\n",
              "      <td>0.003388</td>\n",
              "      <td>0.000053</td>\n",
              "      <td>1.000000</td>\n",
              "      <td>566.000000</td>\n",
              "      <td>0.000000</td>\n",
              "      <td>566.00000</td>\n",
              "      <td>0.00000</td>\n",
              "      <td>0.000000</td>\n",
              "      <td>0.000000</td>\n",
              "      <td>1</td>\n",
              "    </tr>\n",
              "    <tr>\n",
              "      <th>55766</th>\n",
              "      <td>568.077291</td>\n",
              "      <td>445.985348</td>\n",
              "      <td>46289.484791</td>\n",
              "      <td>568.077291</td>\n",
              "      <td>445.985348</td>\n",
              "      <td>46289.484791</td>\n",
              "      <td>433.263804</td>\n",
              "      <td>565.996060</td>\n",
              "      <td>1.411967</td>\n",
              "      <td>565.996060</td>\n",
              "      <td>1.993650</td>\n",
              "      <td>0.000000</td>\n",
              "      <td>0.000000</td>\n",
              "      <td>433.263804</td>\n",
              "      <td>0.003353</td>\n",
              "      <td>0.000057</td>\n",
              "      <td>1.000000</td>\n",
              "      <td>566.000000</td>\n",
              "      <td>0.000000</td>\n",
              "      <td>566.00000</td>\n",
              "      <td>0.00000</td>\n",
              "      <td>0.000000</td>\n",
              "      <td>0.000000</td>\n",
              "      <td>1</td>\n",
              "    </tr>\n",
              "    <tr>\n",
              "      <th>88613</th>\n",
              "      <td>692.630667</td>\n",
              "      <td>452.424210</td>\n",
              "      <td>44569.888804</td>\n",
              "      <td>692.630667</td>\n",
              "      <td>452.424210</td>\n",
              "      <td>44569.888804</td>\n",
              "      <td>537.164113</td>\n",
              "      <td>565.999999</td>\n",
              "      <td>0.017890</td>\n",
              "      <td>565.999999</td>\n",
              "      <td>0.000320</td>\n",
              "      <td>0.000000</td>\n",
              "      <td>0.000000</td>\n",
              "      <td>537.164113</td>\n",
              "      <td>0.002702</td>\n",
              "      <td>0.000039</td>\n",
              "      <td>1.000000</td>\n",
              "      <td>566.000000</td>\n",
              "      <td>0.000000</td>\n",
              "      <td>566.00000</td>\n",
              "      <td>0.00000</td>\n",
              "      <td>0.000000</td>\n",
              "      <td>0.000000</td>\n",
              "      <td>1</td>\n",
              "    </tr>\n",
              "  </tbody>\n",
              "</table>\n",
              "</div>"
            ],
            "text/plain": [
              "       MI_dir_L1_weight  MI_dir_L1_mean  ...  HpHp_L1_pcc  Class\n",
              "86220        657.298514      477.540963  ...     0.000000      1\n",
              "10949          1.520434      152.388259  ...    -0.029463      0\n",
              "55830        578.741457      434.844221  ...     0.000000      1\n",
              "55766        568.077291      445.985348  ...     0.000000      1\n",
              "88613        692.630667      452.424210  ...     0.000000      1\n",
              "\n",
              "[5 rows x 24 columns]"
            ]
          },
          "metadata": {},
          "execution_count": 43
        }
      ]
    },
    {
      "cell_type": "code",
      "metadata": {
        "colab": {
          "base_uri": "https://localhost:8080/",
          "height": 223
        },
        "id": "Ho5MjfxcrPE5",
        "outputId": "21df64ec-1b56-42aa-e8b0-389272a9b8c3"
      },
      "source": [
        "dados.sample(5)"
      ],
      "execution_count": 44,
      "outputs": [
        {
          "output_type": "execute_result",
          "data": {
            "text/html": [
              "<div>\n",
              "<style scoped>\n",
              "    .dataframe tbody tr th:only-of-type {\n",
              "        vertical-align: middle;\n",
              "    }\n",
              "\n",
              "    .dataframe tbody tr th {\n",
              "        vertical-align: top;\n",
              "    }\n",
              "\n",
              "    .dataframe thead th {\n",
              "        text-align: right;\n",
              "    }\n",
              "</style>\n",
              "<table border=\"1\" class=\"dataframe\">\n",
              "  <thead>\n",
              "    <tr style=\"text-align: right;\">\n",
              "      <th></th>\n",
              "      <th>MI_dir_L1_weight</th>\n",
              "      <th>MI_dir_L1_mean</th>\n",
              "      <th>MI_dir_L1_variance</th>\n",
              "      <th>H_L1_weight</th>\n",
              "      <th>H_L1_mean</th>\n",
              "      <th>H_L1_variance</th>\n",
              "      <th>HH_L1_weight</th>\n",
              "      <th>HH_L1_mean</th>\n",
              "      <th>HH_L1_std</th>\n",
              "      <th>HH_L1_magnitude</th>\n",
              "      <th>HH_L1_radius</th>\n",
              "      <th>HH_L1_covariance</th>\n",
              "      <th>HH_L1_pcc</th>\n",
              "      <th>HH_jit_L1_weight</th>\n",
              "      <th>HH_jit_L1_mean</th>\n",
              "      <th>HH_jit_L1_variance</th>\n",
              "      <th>HpHp_L1_weight</th>\n",
              "      <th>HpHp_L1_mean</th>\n",
              "      <th>HpHp_L1_std</th>\n",
              "      <th>HpHp_L1_magnitude</th>\n",
              "      <th>HpHp_L1_radius</th>\n",
              "      <th>HpHp_L1_covariance</th>\n",
              "      <th>HpHp_L1_pcc</th>\n",
              "      <th>Class</th>\n",
              "    </tr>\n",
              "  </thead>\n",
              "  <tbody>\n",
              "    <tr>\n",
              "      <th>91692</th>\n",
              "      <td>638.681489</td>\n",
              "      <td>446.766007</td>\n",
              "      <td>46007.850024</td>\n",
              "      <td>638.681489</td>\n",
              "      <td>446.766007</td>\n",
              "      <td>46007.850024</td>\n",
              "      <td>1.000000</td>\n",
              "      <td>60.000000</td>\n",
              "      <td>0.000000</td>\n",
              "      <td>60.000000</td>\n",
              "      <td>0.00000</td>\n",
              "      <td>0.000000</td>\n",
              "      <td>0.00000</td>\n",
              "      <td>1.000000</td>\n",
              "      <td>1.507659e+09</td>\n",
              "      <td>0.000000</td>\n",
              "      <td>1.000000</td>\n",
              "      <td>60.000000</td>\n",
              "      <td>0.000000</td>\n",
              "      <td>60.000000</td>\n",
              "      <td>0.00000</td>\n",
              "      <td>0.000000</td>\n",
              "      <td>0.00000</td>\n",
              "      <td>1</td>\n",
              "    </tr>\n",
              "    <tr>\n",
              "      <th>52580</th>\n",
              "      <td>605.135179</td>\n",
              "      <td>437.096132</td>\n",
              "      <td>48573.335551</td>\n",
              "      <td>605.135179</td>\n",
              "      <td>437.096132</td>\n",
              "      <td>48573.335551</td>\n",
              "      <td>451.764274</td>\n",
              "      <td>565.020164</td>\n",
              "      <td>22.244931</td>\n",
              "      <td>565.020164</td>\n",
              "      <td>494.83695</td>\n",
              "      <td>0.000000</td>\n",
              "      <td>0.00000</td>\n",
              "      <td>451.764274</td>\n",
              "      <td>3.220605e-03</td>\n",
              "      <td>0.000069</td>\n",
              "      <td>1.000000</td>\n",
              "      <td>566.000000</td>\n",
              "      <td>0.000000</td>\n",
              "      <td>566.000000</td>\n",
              "      <td>0.00000</td>\n",
              "      <td>0.000000</td>\n",
              "      <td>0.00000</td>\n",
              "      <td>1</td>\n",
              "    </tr>\n",
              "    <tr>\n",
              "      <th>99807</th>\n",
              "      <td>576.921100</td>\n",
              "      <td>420.083362</td>\n",
              "      <td>52475.456395</td>\n",
              "      <td>576.921100</td>\n",
              "      <td>420.083362</td>\n",
              "      <td>52475.456395</td>\n",
              "      <td>410.398375</td>\n",
              "      <td>565.999919</td>\n",
              "      <td>0.202089</td>\n",
              "      <td>565.999919</td>\n",
              "      <td>0.04084</td>\n",
              "      <td>0.000000</td>\n",
              "      <td>0.00000</td>\n",
              "      <td>410.398375</td>\n",
              "      <td>3.728000e-03</td>\n",
              "      <td>0.001051</td>\n",
              "      <td>1.000000</td>\n",
              "      <td>566.000000</td>\n",
              "      <td>0.000000</td>\n",
              "      <td>566.000000</td>\n",
              "      <td>0.00000</td>\n",
              "      <td>0.000000</td>\n",
              "      <td>0.00000</td>\n",
              "      <td>1</td>\n",
              "    </tr>\n",
              "    <tr>\n",
              "      <th>6570</th>\n",
              "      <td>1.811050</td>\n",
              "      <td>203.128321</td>\n",
              "      <td>24270.155230</td>\n",
              "      <td>1.811050</td>\n",
              "      <td>203.128321</td>\n",
              "      <td>24270.155230</td>\n",
              "      <td>1.792079</td>\n",
              "      <td>204.643434</td>\n",
              "      <td>155.909976</td>\n",
              "      <td>431.234768</td>\n",
              "      <td>24308.26956</td>\n",
              "      <td>-39.075554</td>\n",
              "      <td>-0.02196</td>\n",
              "      <td>1.792079</td>\n",
              "      <td>4.658601e+00</td>\n",
              "      <td>23.979625</td>\n",
              "      <td>1.792079</td>\n",
              "      <td>204.643434</td>\n",
              "      <td>155.909976</td>\n",
              "      <td>431.234768</td>\n",
              "      <td>24308.26956</td>\n",
              "      <td>-39.075554</td>\n",
              "      <td>-0.02196</td>\n",
              "      <td>0</td>\n",
              "    </tr>\n",
              "    <tr>\n",
              "      <th>75963</th>\n",
              "      <td>540.169864</td>\n",
              "      <td>467.035297</td>\n",
              "      <td>40248.946491</td>\n",
              "      <td>540.169864</td>\n",
              "      <td>467.035297</td>\n",
              "      <td>40248.946491</td>\n",
              "      <td>1.000000</td>\n",
              "      <td>60.000000</td>\n",
              "      <td>0.000000</td>\n",
              "      <td>60.000000</td>\n",
              "      <td>0.00000</td>\n",
              "      <td>0.000000</td>\n",
              "      <td>0.00000</td>\n",
              "      <td>1.000000</td>\n",
              "      <td>1.507659e+09</td>\n",
              "      <td>0.000000</td>\n",
              "      <td>1.000000</td>\n",
              "      <td>60.000000</td>\n",
              "      <td>0.000000</td>\n",
              "      <td>60.000000</td>\n",
              "      <td>0.00000</td>\n",
              "      <td>0.000000</td>\n",
              "      <td>0.00000</td>\n",
              "      <td>1</td>\n",
              "    </tr>\n",
              "  </tbody>\n",
              "</table>\n",
              "</div>"
            ],
            "text/plain": [
              "       MI_dir_L1_weight  MI_dir_L1_mean  ...  HpHp_L1_pcc  Class\n",
              "91692        638.681489      446.766007  ...      0.00000      1\n",
              "52580        605.135179      437.096132  ...      0.00000      1\n",
              "99807        576.921100      420.083362  ...      0.00000      1\n",
              "6570           1.811050      203.128321  ...     -0.02196      0\n",
              "75963        540.169864      467.035297  ...      0.00000      1\n",
              "\n",
              "[5 rows x 24 columns]"
            ]
          },
          "metadata": {},
          "execution_count": 44
        }
      ]
    },
    {
      "cell_type": "code",
      "metadata": {
        "colab": {
          "base_uri": "https://localhost:8080/"
        },
        "id": "RZjpCr-Nzy0J",
        "outputId": "9747e8c7-632c-4823-ca77-04bbd10f7a3b"
      },
      "source": [
        "X = dados.loc[:, dados.columns != 'Class'].values\n",
        "y = dados[['Class']].values\n",
        "dados['Class'].value_counts()"
      ],
      "execution_count": 46,
      "outputs": [
        {
          "output_type": "execute_result",
          "data": {
            "text/plain": [
              "1    113285\n",
              "0     13113\n",
              "Name: Class, dtype: int64"
            ]
          },
          "metadata": {},
          "execution_count": 46
        }
      ]
    },
    {
      "cell_type": "code",
      "metadata": {
        "id": "9AQSPKg4rTaH"
      },
      "source": [
        "#Treino\n",
        "from sklearn.model_selection import train_test_split\n",
        "from sklearn.preprocessing import StandardScaler\n",
        "\n",
        "raw_treino_x, raw_teste_x, y_train, y_test = train_test_split(X, y, test_size=0.25, stratify = y, random_state=42) \n",
        "scaler = StandardScaler()\n",
        "scaler.fit(raw_treino_x)\n",
        "X_train = scaler.transform(raw_treino_x)\n",
        "x_test = scaler.transform(raw_teste_x)"
      ],
      "execution_count": 50,
      "outputs": []
    },
    {
      "cell_type": "code",
      "metadata": {
        "id": "NOMt9ARZlwqN"
      },
      "source": [
        "#MODELO DECLASSIFICAÇÃO KNN\n",
        "\n",
        "from sklearn.neighbors import KNeighborsClassifier\n",
        "inicio_knn = time.time()\n",
        "\n",
        "error_rate = []\n",
        "best_k = 0\n",
        "pesos = [1,2]\n",
        "\n",
        "for i in range(1, 40):\n",
        "    knn = KNeighborsClassifier(n_neighbors=i, p=2, metric='minkowski')\n",
        "    knn.fit(X_train, y_train)\n",
        "    pred = knn.predict(x_test)\n",
        "    error_rate.append(np.mean(pred!=y_test))"
      ],
      "execution_count": 57,
      "outputs": []
    },
    {
      "cell_type": "code",
      "metadata": {
        "id": "bSsnJjAImOA5"
      },
      "source": [
        "mini = 100\n",
        "for i in range(len(error_rate)):\n",
        "    if error_rate[i] < mini:\n",
        "        best_k = i\n",
        "        mini = error_rate[i]"
      ],
      "execution_count": 58,
      "outputs": []
    },
    {
      "cell_type": "code",
      "metadata": {
        "colab": {
          "base_uri": "https://localhost:8080/"
        },
        "id": "mSOO7afC6ZSD",
        "outputId": "896c826a-c607-4a8f-f3e5-16d54cd3a9da"
      },
      "source": [
        "best_k"
      ],
      "execution_count": 62,
      "outputs": [
        {
          "output_type": "execute_result",
          "data": {
            "text/plain": [
              "18"
            ]
          },
          "metadata": {},
          "execution_count": 62
        }
      ]
    },
    {
      "cell_type": "code",
      "metadata": {
        "colab": {
          "base_uri": "https://localhost:8080/",
          "height": 530
        },
        "id": "NCmhhoXw6bil",
        "outputId": "77650801-6de0-4f71-c4d5-3ec2c9538a7e"
      },
      "source": [
        "plt.figure(figsize=(14, 8))\n",
        "plt.rcParams.update({'font.size':18})\n",
        "plt.plot(range(1,40), error_rate, color='blue', linestyle='dashed', marker='o', linewidth=2.0)\n",
        "plt.xlabel('k')\n",
        "plt.ylabel('Taxa de erro')"
      ],
      "execution_count": 73,
      "outputs": [
        {
          "output_type": "execute_result",
          "data": {
            "text/plain": [
              "Text(0, 0.5, 'Taxa de erro')"
            ]
          },
          "metadata": {},
          "execution_count": 73
        },
        {
          "output_type": "display_data",
          "data": {
            "image/png": "[encoded data removed]",
            "text/plain": [
              "<Figure size 1008x576 with 1 Axes>"
            ]
          },
          "metadata": {
            "needs_background": "light"
          }
        }
      ]
    },
    {
      "cell_type": "code",
      "metadata": {
        "colab": {
          "base_uri": "https://localhost:8080/"
        },
        "id": "IU6JFLVkrYEb",
        "outputId": "5a54f84c-ec2f-416f-88fd-18e9cd74408a"
      },
      "source": [
        "n = 56305;\n",
        "classifier_knn = KNeighborsClassifier(n_neighbors=55)\n",
        "\n",
        "model_knn = classifier_knn.fit(x_train, y_train)\n",
        "preds_knn = classifier_knn.predict(x_test)\n",
        "\n",
        "fim_knn = time.time()\n",
        "tempo_knn = fim_knn - inicio_knn\n",
        "print(\"Tempo:\", tempo_knn)\n",
        "\n",
        "#validação cruzda\n",
        "scores = cross_val_score(classifier_knn, dados, Output, cv=5, scoring='accuracy')\n",
        "print(\"CV:\", scores)\n",
        "print(\"CV Média:\", scores.mean())\n",
        "\n",
        "#AVALIAÇÃO SVM\n",
        "print(\"-------------------------------\")\n",
        "print(\"AVALIAÇÃO KNN\")\n",
        "print(\"-------------------------------\")\n",
        "accuracy_knn = accuracy_score(y_test, preds_knn)\n",
        "print('Accuracy: %f' % (accuracy_knn))\n",
        "#precision tp / (tp + fp)\n",
        "precision_knn = precision_score(y_test, preds_knn)\n",
        "print('Precision: %f' % precision_knn)\n",
        "# recall: tp / (tp + fn)\n",
        "recall_knn = recall_score(y_test, preds_knn)\n",
        "print('Recall: %f' % recall_knn)\n",
        "#f1: 2 tp / (2 tp + fp + fn)\n",
        "f1_knn = f1_score(y_test, preds_knn)\n",
        "print('F1 score: %f' % f1_knn)\n",
        "auc_knn = roc_auc_score(y_test, preds_knn)\n",
        "print('ROC AUC: %f' % auc_knn)\n",
        "# confusion matrix\n",
        "matrix_knn = confusion_matrix(y_test, preds_knn)\n",
        "print(matrix_knn)\n"
      ],
      "execution_count": 59,
      "outputs": [
        {
          "output_type": "stream",
          "name": "stdout",
          "text": [
            "Tempo: 1387.6071996688843\n",
            "CV: [0.89624209 0.89624209 0.89624209 0.89627754 0.89627754]\n",
            "CV Média: 0.896256270214282\n",
            "-------------------------------\n",
            "AVALIAÇÃO KNN\n",
            "-------------------------------\n",
            "Accuracy: 0.999557\n",
            "Precision: 0.999576\n",
            "Recall: 0.999929\n",
            "F1 score: 0.999753\n",
            "ROC AUC: 0.998134\n",
            "[[ 3266    12]\n",
            " [    2 28320]]\n"
          ]
        }
      ]
    },
    {
      "cell_type": "code",
      "metadata": {
        "colab": {
          "base_uri": "https://localhost:8080/",
          "height": 332
        },
        "id": "1xQi7E0erqQJ",
        "outputId": "d5fd7947-6dbc-4d49-df28-85273672ece6"
      },
      "source": [
        "#matriz confusao\n",
        "\n",
        "from sklearn.metrics import confusion_matrix\n",
        "from sklearn.model_selection import cross_validate\n",
        "from sklearn import metrics\n",
        "from sklearn.metrics.scorer import make_scorer\n",
        "from sklearn.metrics import confusion_matrix\n",
        "\n",
        "conf_mat_knn = confusion_matrix(y_true=y_test,y_pred=preds_knn)\n",
        "print('Confusion matrix KNN:\\n', conf_mat_knn)\n",
        "labels = ['Normal', 'Attack']\n",
        "fig = plt.figure()\n",
        "ax = fig.add_subplot(111)\n",
        "cax = ax.matshow(conf_mat_knn, cmap=plt.cm.Blues)\n",
        "fig.colorbar(cax)\n",
        "ax.set_xticklabels([''] + labels)\n",
        "ax.set_yticklabels([''] + labels)\n",
        "plt.xlabel('Predicted')\n",
        "plt.ylabel('Expected')\n",
        "plt.show()\n",
        "#plt.savefig('imagens/Matriz_SVM_ACK.eps', format='eps')"
      ],
      "execution_count": 60,
      "outputs": [
        {
          "output_type": "stream",
          "name": "stdout",
          "text": [
            "Confusion matrix KNN:\n",
            " [[ 3266    12]\n",
            " [    2 28320]]\n"
          ]
        },
        {
          "output_type": "display_data",
          "data": {
            "image/png": "[encoded data removed]",
            "text/plain": [
              "<Figure size 432x288 with 2 Axes>"
            ]
          },
          "metadata": {
            "needs_background": "light"
          }
        }
      ]
    },
    {
      "cell_type": "code",
      "metadata": {
        "colab": {
          "base_uri": "https://localhost:8080/",
          "height": 282
        },
        "id": "fUN0tYUjrz3o",
        "outputId": "37bd7eb8-42df-47b3-e884-b26fc3a7da33"
      },
      "source": [
        "#curva roc\n",
        "\n",
        "import sklearn.metrics as metrics\n",
        "y_pred_proba_knn = classifier_knn.predict_proba(x_test)[::,1]\n",
        "fpr, tpr, thresholds = metrics.roc_curve(y_test, y_pred_proba_knn)\n",
        "auc_knn = metrics.roc_auc_score(y_test, y_pred_proba_knn)\n",
        "auc_knn = '%.6f' % auc_knn\n",
        "plt.plot(fpr,tpr,label=\"KNN, auc=\"+str(auc_knn), color='peru',  linewidth=2.0)\n",
        "plt.legend(loc=4)"
      ],
      "execution_count": 61,
      "outputs": [
        {
          "output_type": "execute_result",
          "data": {
            "text/plain": [
              "<matplotlib.legend.Legend at 0x7f56355a6650>"
            ]
          },
          "metadata": {},
          "execution_count": 61
        },
        {
          "output_type": "display_data",
          "data": {
            "image/png": "[encoded data removed]",
            "text/plain": [
              "<Figure size 432x288 with 1 Axes>"
            ]
          },
          "metadata": {
            "needs_background": "light"
          }
        }
      ]
    },
    {
      "cell_type": "code",
      "metadata": {
        "colab": {
          "base_uri": "https://localhost:8080/"
        },
        "id": "iB1yyoVfsJkA",
        "outputId": "5b637f5a-f88f-47d4-e791-de7155fdee83"
      },
      "source": [
        "#validacao\n",
        "\n",
        "from sklearn.metrics import mean_squared_error\n",
        "from math import sqrt\n",
        "\n",
        "rmse_knn = sqrt(mean_squared_error(y_test, preds_knn))\n",
        "print(rmse_knn)\n"
      ],
      "execution_count": 66,
      "outputs": [
        {
          "output_type": "stream",
          "name": "stdout",
          "text": [
            "0.02104846727634923\n"
          ]
        }
      ]
    }
  ]
}